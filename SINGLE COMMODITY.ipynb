{
 "cells": [
  {
   "cell_type": "code",
   "execution_count": 1,
   "id": "d6cbfbb5",
   "metadata": {},
   "outputs": [],
   "source": [
    "import networkx as nx\n",
    "import scipy as sc\n",
    "import matplotlib.pyplot as plt\n",
    "from itertools import combinations\n",
    "import operator\n",
    "from gurobipy import *\n",
    "import random as rd"
   ]
  },
  {
   "cell_type": "code",
   "execution_count": 2,
   "id": "b8f6ed44",
   "metadata": {},
   "outputs": [],
   "source": [
    "commodities = ['first']"
   ]
  },
  {
   "cell_type": "code",
   "execution_count": 3,
   "id": "e2de573b",
   "metadata": {},
   "outputs": [],
   "source": [
    "G = nx.barabasi_albert_graph(1000,2)\n",
    "pos=nx.spring_layout(G)\n",
    "for (i,j,d) in G.edges(data=True):\n",
    "    d['weight']=rd.randint(800,2000)\n",
    "pos=nx.spring_layout(G)\n",
    "# G=nx.Graph()\n",
    "# filename=\"./roadNet-TX.txt\"\n",
    "# f=open(filename)\n",
    "# for row in f:\n",
    "#     myrow=row.split()\n",
    "#     G.add_edge(myrow[0], myrow[1],weight=float(myrow[2])\n"
   ]
  },
  {
   "cell_type": "code",
   "execution_count": 4,
   "id": "081a6358",
   "metadata": {},
   "outputs": [],
   "source": [
    "for (i,j,d) in G.edges(data=True):\n",
    "     d['weight']=rd.randint(2000,5200)"
   ]
  },
  {
   "cell_type": "code",
   "execution_count": 6,
   "id": "a24b8df4",
   "metadata": {},
   "outputs": [],
   "source": [
    "for k in commodities:\n",
    "    for (i,d) in G.nodes(data=True):\n",
    "        d[k]=0\n"
   ]
  },
  {
   "cell_type": "code",
   "execution_count": 8,
   "id": "bbb3eec3",
   "metadata": {},
   "outputs": [],
   "source": [
    "for (i,j,d) in G.edges(data=True):\n",
    "    d['capacity']=1"
   ]
  },
  {
   "cell_type": "code",
   "execution_count": 10,
   "id": "c8bc4642",
   "metadata": {},
   "outputs": [
    {
     "name": "stderr",
     "output_type": "stream",
     "text": [
      "/var/folders/np/xyxhbcvd7ks47j34qd3svpf00000gn/T/ipykernel_63053/3856733034.py:1: DeprecationWarning: Sampling from a set deprecated\n",
      "since Python 3.9 and will be removed in a subsequent version.\n",
      "  supplier=rd.sample(G.nodes(),1)\n",
      "/var/folders/np/xyxhbcvd7ks47j34qd3svpf00000gn/T/ipykernel_63053/3856733034.py:2: DeprecationWarning: Sampling from a set deprecated\n",
      "since Python 3.9 and will be removed in a subsequent version.\n",
      "  terminals=rd.sample(G.nodes(),1)\n"
     ]
    }
   ],
   "source": [
    "supplier=rd.sample(G.nodes(),1)\n",
    "terminals=rd.sample(G.nodes(),1)\n"
   ]
  },
  {
   "cell_type": "code",
   "execution_count": 11,
   "id": "20e64b18",
   "metadata": {},
   "outputs": [
    {
     "name": "stdout",
     "output_type": "stream",
     "text": [
      "744 1\n"
     ]
    }
   ],
   "source": [
    "for i,d in G.nodes(data=True):\n",
    "    if i==terminals[0]:\n",
    "        d['first']=1\n",
    "        print(i,d['first'])\n",
    "#     if i==terminals[1]:\n",
    "#         d['second']=2\n",
    "#         print(i,d['second'])    "
   ]
  },
  {
   "cell_type": "code",
   "execution_count": 12,
   "id": "0fb86022",
   "metadata": {},
   "outputs": [
    {
     "name": "stdout",
     "output_type": "stream",
     "text": [
      "446 -1\n"
     ]
    }
   ],
   "source": [
    "for i,d in G.nodes(data=True):\n",
    "    if i==supplier[0]:\n",
    "        d['first']=-1\n",
    "        print(i,d['first'])\n",
    "#     if i==supplier[1]:\n",
    "#         d['second']=-2\n",
    "#         print(i,d['second'])"
   ]
  },
  {
   "cell_type": "code",
   "execution_count": 13,
   "id": "fb9b965c",
   "metadata": {},
   "outputs": [
    {
     "name": "stdout",
     "output_type": "stream",
     "text": [
      "Set parameter Username\n",
      "Academic license - for non-commercial use only - expires 2023-08-20\n"
     ]
    }
   ],
   "source": [
    "from gurobipy import *\n",
    "m=Model('commodityflow')"
   ]
  },
  {
   "cell_type": "code",
   "execution_count": 16,
   "id": "61f274f3",
   "metadata": {},
   "outputs": [],
   "source": [
    "x = {}\n",
    "for k in commodities:\n",
    "    for i,d in G.nodes(data=True):\n",
    "        for j in G.nodes():\n",
    "            if (i,j) in G.edges():\n",
    "                x[(k,i,j)] = m.addVar(lb=0,ub=1,vtype=GRB.BINARY,name='x.{0}.{1}.{2}'.format(k, i, j))"
   ]
  },
  {
   "cell_type": "code",
   "execution_count": 17,
   "id": "31143a14",
   "metadata": {},
   "outputs": [],
   "source": [
    "for (i,j,d) in G.edges(data=True):\n",
    "    sum9=0\n",
    "    for k in commodities:\n",
    "        sum9+=x[(k,i,j)]\n",
    "    m.addConstr(sum9<=d['capacity'])"
   ]
  },
  {
   "cell_type": "code",
   "execution_count": 18,
   "id": "63d02de0",
   "metadata": {},
   "outputs": [],
   "source": [
    "for k in commodities:\n",
    "    for i,d in G.nodes(data=True):\n",
    "        sum1=0\n",
    "        sum2=0\n",
    "        for j in G.nodes():\n",
    "            if i!=j:\n",
    "                if (i,j) in G.edges():\n",
    "                    sum1+=x[(k,i,j)]\n",
    "                if (j,i) in G.edges():\n",
    "                    sum2+=x[(k,j,i)]\n",
    "        m.addConstr((sum2-sum1)==d[k])"
   ]
  },
  {
   "cell_type": "code",
   "execution_count": 19,
   "id": "a3f2ab14",
   "metadata": {},
   "outputs": [],
   "source": [
    "obj=0\n",
    "for k in commodities:\n",
    "    for i,j,d in G.edges(data=True):\n",
    "        obj+=x[(k,i,j)]*d['weight']"
   ]
  },
  {
   "cell_type": "code",
   "execution_count": 20,
   "id": "e4943704",
   "metadata": {},
   "outputs": [
    {
     "name": "stdout",
     "output_type": "stream",
     "text": [
      "Gurobi Optimizer version 9.5.2 build v9.5.2rc0 (mac64[rosetta2])\n",
      "Thread count: 8 physical cores, 8 logical processors, using up to 8 threads\n",
      "Optimize a model with 3996 rows, 15968 columns and 19960 nonzeros\n",
      "Model fingerprint: 0x82905639\n",
      "Variable types: 0 continuous, 15968 integer (15968 binary)\n",
      "Coefficient statistics:\n",
      "  Matrix range     [1e+00, 1e+00]\n",
      "  Objective range  [2e+03, 5e+03]\n",
      "  Bounds range     [1e+00, 1e+00]\n",
      "  RHS range        [1e+00, 1e+00]\n",
      "Found heuristic solution: objective 23886.000000\n",
      "Presolve removed 3 rows and 7987 columns\n",
      "Presolve time: 0.04s\n",
      "Presolved: 3993 rows, 7981 columns, 19950 nonzeros\n",
      "Variable types: 0 continuous, 7981 integer (7981 binary)\n",
      "\n",
      "Root relaxation: objective 5.686000e+03, 37 iterations, 0.00 seconds (0.00 work units)\n",
      "\n",
      "    Nodes    |    Current Node    |     Objective Bounds      |     Work\n",
      " Expl Unexpl |  Obj  Depth IntInf | Incumbent    BestBd   Gap | It/Node Time\n",
      "\n",
      "*    0     0               0    5686.0000000 5686.00000  0.00%     -    0s\n",
      "\n",
      "Explored 1 nodes (37 simplex iterations) in 0.07 seconds (0.03 work units)\n",
      "Thread count was 8 (of 8 available processors)\n",
      "\n",
      "Solution count 2: 5686 23886 \n",
      "\n",
      "Optimal solution found (tolerance 1.00e-04)\n",
      "Best objective 5.686000000000e+03, best bound 5.686000000000e+03, gap 0.0000%\n"
     ]
    }
   ],
   "source": [
    "m.update()\n",
    "m.setObjective(obj,GRB.MINIMIZE)\n",
    "m.optimize()"
   ]
  },
  {
   "cell_type": "code",
   "execution_count": 22,
   "id": "081eb109",
   "metadata": {},
   "outputs": [
    {
     "data": {
      "image/png": "[encoded data removed]",
      "text/plain": [
       "<Figure size 432x288 with 1 Axes>"
      ]
     },
     "metadata": {},
     "output_type": "display_data"
    }
   ],
   "source": [
    "route1=[(i,j) for (i,j) in G.edges() if x[('first',i,j)].X>0 or x[('first',j,i)].X>0 ]\n",
    "#route2=[(i,j) for (i,j) in G.edges() if x[('second',i,j)].X>0 or x[('second',j,i)].X>0]\n",
    "pos=nx.spring_layout(G)\n",
    "nx.draw_networkx_nodes(G,pos,nodelist=G.nodes(),node_color='b', node_size=2,alpha=0.2)\n",
    "nx.draw_networkx_nodes(G,pos,nodelist=supplier,node_color='y', node_size=20)\n",
    "nx.draw_networkx_nodes(G,pos,nodelist=terminals,node_color='r', node_size=20)\n",
    "nx.draw_networkx_edges(G,pos,edgelist=route1,edge_color='g', width=1)\n",
    "nx.draw_networkx_edges(G,pos,edgelist=route2,edge_color='black',width=1)\n",
    "plt.savefig(\"k=1.png\", dpi=1000)\n"
   ]
  },
  {
   "cell_type": "code",
   "execution_count": null,
   "id": "c18b07d9",
   "metadata": {},
   "outputs": [],
   "source": []
  }
 ],
 "metadata": {
  "kernelspec": {
   "display_name": "Python 3 (ipykernel)",
   "language": "python",
   "name": "python3"
  },
  "language_info": {
   "codemirror_mode": {
    "name": "ipython",
    "version": 3
   },
   "file_extension": ".py",
   "mimetype": "text/x-python",
   "name": "python",
   "nbconvert_exporter": "python",
   "pygments_lexer": "ipython3",
   "version": "3.9.12"
  }
 },
 "nbformat": 4,
 "nbformat_minor": 5
}
