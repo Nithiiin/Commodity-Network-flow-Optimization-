{
 "cells": [
  {
   "cell_type": "code",
   "execution_count": 1,
   "id": "39fe0d4e",
   "metadata": {},
   "outputs": [],
   "source": [
    "import networkx as nx\n",
    "import scipy as sc\n",
    "import matplotlib.pyplot as plt\n",
    "from itertools import combinations\n",
    "import operator\n",
    "from gurobipy import *\n",
    "import random as rd"
   ]
  },
  {
   "cell_type": "code",
   "execution_count": 2,
   "id": "d368ebe0",
   "metadata": {},
   "outputs": [],
   "source": [
    "commodities = ['first','second','third','fourth']"
   ]
  },
  {
   "cell_type": "code",
   "execution_count": 3,
   "id": "d8def2a5",
   "metadata": {},
   "outputs": [],
   "source": [
    "G = nx.Graph(nx.barabasi_albert_graph(1000, 2))\n",
    "pos=nx.spring_layout(G)\n",
    "\n",
    "# G=nx.DiGraph()\n",
    "# filename=\"./roadNet-TX.txt\"\n",
    "# f=open(filename)\n",
    "# for row in f:\n",
    "#     myrow=row.split()\n",
    "#     G.add_edge(myrow[0], myrow[1])"
   ]
  },
  {
   "cell_type": "code",
   "execution_count": 4,
   "id": "adf7ecf7",
   "metadata": {},
   "outputs": [],
   "source": [
    "for (i,j,d) in G.edges(data=True):\n",
    "    d['weight']=rd.randint(800,2000)"
   ]
  },
  {
   "cell_type": "code",
   "execution_count": 5,
   "id": "75befea4",
   "metadata": {},
   "outputs": [],
   "source": [
    "for k in commodities:\n",
    "    for (i,d) in G.nodes(data=True):\n",
    "        d[k]=0\n",
    "        \n"
   ]
  },
  {
   "cell_type": "code",
   "execution_count": 6,
   "id": "42e6267c",
   "metadata": {},
   "outputs": [],
   "source": [
    "for (i,j,d) in G.edges(data=True):\n",
    "    d['capacity']=1"
   ]
  },
  {
   "cell_type": "code",
   "execution_count": 9,
   "id": "b20d723b",
   "metadata": {},
   "outputs": [
    {
     "name": "stderr",
     "output_type": "stream",
     "text": [
      "/var/folders/np/xyxhbcvd7ks47j34qd3svpf00000gn/T/ipykernel_61850/3957267518.py:1: DeprecationWarning: Sampling from a set deprecated\n",
      "since Python 3.9 and will be removed in a subsequent version.\n",
      "  supplier=rd.sample(G.nodes(),4)\n",
      "/var/folders/np/xyxhbcvd7ks47j34qd3svpf00000gn/T/ipykernel_61850/3957267518.py:2: DeprecationWarning: Sampling from a set deprecated\n",
      "since Python 3.9 and will be removed in a subsequent version.\n",
      "  terminals=rd.sample(G.nodes(),4)\n"
     ]
    }
   ],
   "source": [
    "supplier=rd.sample(G.nodes(),4)\n",
    "terminals=rd.sample(G.nodes(),4)"
   ]
  },
  {
   "cell_type": "code",
   "execution_count": 10,
   "id": "1c61eea8",
   "metadata": {},
   "outputs": [
    {
     "name": "stdout",
     "output_type": "stream",
     "text": [
      "29 -2\n",
      "212 -2\n"
     ]
    }
   ],
   "source": [
    "for i,d in G.nodes(data=True):\n",
    "    if i==supplier[0]:\n",
    "        d['first']=-2\n",
    "        print(i,d['first'])\n",
    "    if i==supplier[1]:\n",
    "        d['second']=-2\n",
    "        print(i,d['second'])\n",
    "    if i==supplier[2]:\n",
    "        d['third']=-2\n",
    "    if i==supplier[3]:\n",
    "        d['third']=-2\n",
    "    "
   ]
  },
  {
   "cell_type": "code",
   "execution_count": 11,
   "id": "a515b865",
   "metadata": {},
   "outputs": [
    {
     "name": "stdout",
     "output_type": "stream",
     "text": [
      "13 2\n",
      "433 2\n"
     ]
    }
   ],
   "source": [
    "for i,d in G.nodes(data=True):\n",
    "    if i==terminals[0]:\n",
    "        d['first']=2\n",
    "        print(i,d['first'])\n",
    "    if i==terminals[1]:\n",
    "        d['second']=2\n",
    "        print(i,d['second']) \n",
    "    if i==terminals[2]:\n",
    "        d['third']=2\n",
    "    if i==terminals[3]:\n",
    "        d['third']=2"
   ]
  },
  {
   "cell_type": "code",
   "execution_count": 12,
   "id": "5390ff8d",
   "metadata": {},
   "outputs": [
    {
     "name": "stdout",
     "output_type": "stream",
     "text": [
      "Set parameter Username\n",
      "Academic license - for non-commercial use only - expires 2023-08-20\n"
     ]
    }
   ],
   "source": [
    "from gurobipy import *\n",
    "m=Model('commodityflow')"
   ]
  },
  {
   "cell_type": "code",
   "execution_count": 13,
   "id": "15c8dcfc",
   "metadata": {},
   "outputs": [],
   "source": [
    "x = {}\n",
    "for k in commodities:\n",
    "    for i,d in G.nodes(data=True):\n",
    "        for j in G.nodes():\n",
    "            if (i,j) in G.edges():\n",
    "                x[(k,i,j)] = m.addVar(lb=0,ub=1,vtype=GRB.BINARY,name='x.{0}.{1}.{2}'.format(k, i, j))"
   ]
  },
  {
   "cell_type": "code",
   "execution_count": 14,
   "id": "a3e8d2ae",
   "metadata": {},
   "outputs": [],
   "source": [
    "for (i,j,d) in G.edges(data=True):\n",
    "    sum9=0\n",
    "    for k in commodities:\n",
    "        sum9+=x[(k,i,j)]\n",
    "    m.addConstr(sum9<=d['capacity'])"
   ]
  },
  {
   "cell_type": "code",
   "execution_count": 15,
   "id": "a5b0766e",
   "metadata": {},
   "outputs": [],
   "source": [
    "for k in commodities:\n",
    "    for i,d in G.nodes(data=True):\n",
    "        sum1=0\n",
    "        sum2=0\n",
    "        for j in G.nodes():\n",
    "            if i!=j:\n",
    "                if (i,j) in G.edges():\n",
    "                    sum1+=x[(k,i,j)]\n",
    "                if (j,i) in G.edges():\n",
    "                    sum2+=x[(k,j,i)]\n",
    "        m.addConstr((sum2-sum1)==d[k])"
   ]
  },
  {
   "cell_type": "code",
   "execution_count": 16,
   "id": "0d390bb3",
   "metadata": {},
   "outputs": [],
   "source": [
    "obj=0\n",
    "for k in commodities:\n",
    "    for i,j,d in G.edges(data=True):\n",
    "        obj+=x[(k,i,j)]*d['weight']"
   ]
  },
  {
   "cell_type": "code",
   "execution_count": 17,
   "id": "286baa01",
   "metadata": {},
   "outputs": [
    {
     "name": "stdout",
     "output_type": "stream",
     "text": [
      "Gurobi Optimizer version 9.5.2 build v9.5.2rc0 (mac64[rosetta2])\n",
      "Thread count: 8 physical cores, 8 logical processors, using up to 8 threads\n",
      "Optimize a model with 5996 rows, 15968 columns and 39920 nonzeros\n",
      "Model fingerprint: 0x734e43b6\n",
      "Variable types: 0 continuous, 15968 integer (15968 binary)\n",
      "Coefficient statistics:\n",
      "  Matrix range     [1e+00, 1e+00]\n",
      "  Objective range  [8e+02, 2e+03]\n",
      "  Bounds range     [1e+00, 1e+00]\n",
      "  RHS range        [1e+00, 2e+00]\n",
      "Presolve removed 21 rows and 59 columns\n",
      "Presolve time: 0.05s\n",
      "Presolved: 5975 rows, 15909 columns, 39772 nonzeros\n",
      "Variable types: 0 continuous, 15909 integer (15909 binary)\n",
      "\n",
      "Root relaxation: infeasible, 4122 iterations, 0.16 seconds (0.22 work units)\n",
      "\n",
      "    Nodes    |    Current Node    |     Objective Bounds      |     Work\n",
      " Expl Unexpl |  Obj  Depth IntInf | Incumbent    BestBd   Gap | It/Node Time\n",
      "\n",
      "     0     0 infeasible    0               - infeasible      -     -    0s\n",
      "\n",
      "Explored 1 nodes (4122 simplex iterations) in 0.24 seconds (0.28 work units)\n",
      "Thread count was 8 (of 8 available processors)\n",
      "\n",
      "Solution count 0\n",
      "\n",
      "Model is infeasible\n",
      "Best objective -, best bound -, gap -\n"
     ]
    }
   ],
   "source": [
    "m.update()\n",
    "m.setObjective(obj,GRB.MINIMIZE)\n",
    "m.optimize()"
   ]
  },
  {
   "cell_type": "code",
   "execution_count": null,
   "id": "49bcc1e5",
   "metadata": {},
   "outputs": [],
   "source": []
  }
 ],
 "metadata": {
  "kernelspec": {
   "display_name": "Python 3 (ipykernel)",
   "language": "python",
   "name": "python3"
  },
  "language_info": {
   "codemirror_mode": {
    "name": "ipython",
    "version": 3
   },
   "file_extension": ".py",
   "mimetype": "text/x-python",
   "name": "python",
   "nbconvert_exporter": "python",
   "pygments_lexer": "ipython3",
   "version": "3.9.12"
  }
 },
 "nbformat": 4,
 "nbformat_minor": 5
}
